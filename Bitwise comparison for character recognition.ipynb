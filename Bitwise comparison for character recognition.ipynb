{
 "cells": [
  {
   "cell_type": "code",
   "execution_count": 5,
   "metadata": {},
   "outputs": [],
   "source": [
    "from skimage.color import rgb2gray, rgb2hsv\n",
    "import numpy as np\n",
    "import cv2\n",
    "import matplotlib.pyplot as plt\n",
    "%matplotlib inline\n",
    "from scipy import ndimage\n",
    "import math\n",
    "import os\n",
    "import sys"
   ]
  },
  {
   "cell_type": "code",
   "execution_count": 6,
   "metadata": {},
   "outputs": [
    {
     "name": "stdout",
     "output_type": "stream",
     "text": [
      "41-JS-SB\n"
     ]
    }
   ],
   "source": [
    "res_string =''\n",
    "# Path to the folder with characters\n",
    "directory = 'D:/try'\n",
    "res_array = np.zeros((27,1))\n",
    "string_array = np.zeros(8,dtype=int)\n",
    "hyphen1 = 0\n",
    "hyphen2 = 0\n",
    "char_len = np.zeros(8)\n",
    "#list of all the possible characters\n",
    "plate_char = [\"0\",\"1\",\"2\",\"3\",\"4\",\"5\",\"6\",\"7\",\"8\",\"9\",\"B\",\"D\",\"F\",\"G\",\"H\",\"J\",\"K\",\"L\",\"M\",\"N\",\"P\",\"R\",\"S\",\"T\",\"V\",\"X\",\"Z\",\"-\"]\n",
    "\n",
    "##### Here we find the hyphens\n",
    "##### We look for two smallest characters\n",
    "for ind, filename in enumerate(os.listdir(directory)):\n",
    "    detect = cv2.imread(directory +'/' + filename)\n",
    "    char_len[ind] = len(detect)\n",
    "    \n",
    "hyphen1 = np.argmin(char_len) \n",
    "char_len[hyphen1] = 200\n",
    "hyphen2 = np.argmin(char_len)  \n",
    "#####\n",
    "\n",
    "for ind, filename in enumerate(os.listdir(directory)):\n",
    "    index  = 0\n",
    "    detect = cv2.imread(directory +'/' + filename)\n",
    "\n",
    "    ##Loop through all images and see which allign the most\n",
    "    for i in range(len(plate_char)-1):\n",
    "        \n",
    "        # if the image is one of the hyphens - we put index to 27\n",
    "        if(ind == hyphen1 or ind == hyphen2):\n",
    "            index = 27\n",
    "            break\n",
    "        else:            \n",
    "            orig = cv2.imread('dataset/'+ str(i) + '.jpg')  # character from the dataset\n",
    "            dim = (len(orig[0]), len(orig)) \n",
    "            resized = cv2.resize(detect, dim)               # change the size of the character we want to recognize          \n",
    "            bitwise = cv2.bitwise_and(resized,orig)         # perform biwise operation\n",
    "            res = np.mean(bitwise[:,:])                     # compute mean of the resulting picture\n",
    "            res_array[i] = np.abs(res - np.mean(resized[:,:])); \n",
    "        \n",
    "        \n",
    "    #choose the most appropriate character\n",
    "    if(index == 0): # if the character is not a hyphen\n",
    "        \n",
    "        if(ind == 0):\n",
    "            index = np.argmin(res_array) # take the smallest value of the res_array (means the best match)\n",
    "        else:\n",
    "            if(string_array[ind-1] != 27): # previous char is not a hyphen\n",
    "                if(string_array[ind-1] in range(0,10)):\n",
    "                    # the previous char is a number\n",
    "                    index = np.argmin(res_array[:10])\n",
    "                    \n",
    "                else:\n",
    "                    # the previous char is a letter\n",
    "                    index = np.argmin(res_array[10:27]) + 10\n",
    "                    \n",
    "            else:  # previous char is a hyphen\n",
    "                if(ind == 7 and string_array[1] in range(10,27) and string_array[5] in range(0,10)):  # VD-020-P(make sure the last character is a letter)\n",
    "                    index = np.argmin(res_array[10:27]) + 10\n",
    "                if(ind == 7 and string_array[1] in range(0,10) and string_array[5] in range(10,27)):  # 92-LHR-6 (make sure the last character is a number)                \n",
    "                    index = np.argmin(res_array[:10])\n",
    "                elif(ind == 6 and string_array[1] in range(0,10) and string_array[4] in range(10,27)): # plates like 89-LZ-GX (make sure the last two characters are letters)\n",
    "                    index = np.argmin(res_array[10:27]) + 10\n",
    "                elif(ind == 6 and string_array[1] in range(10,27) and string_array[4] in range(10,27)): # plates like LZ-GX-89 (make sure the last two characters are numbers)\n",
    "                    index = np.argmin(res_array[:10])                    \n",
    "                elif(string_array[ind-2] in range(0,10)): # we had numbers before hyphen \n",
    "                    index = np.argmin(res_array[10:27]) + 10\n",
    "                else:\n",
    "                    index = np.argmin(res_array) # take the smallest value of the res_array\n",
    "    string_array[ind] = index\n",
    "    \n",
    "    \n",
    "for i in string_array:\n",
    "    res_string = res_string + plate_char[i]\n",
    "print(res_string)"
   ]
  },
  {
   "cell_type": "code",
   "execution_count": null,
   "metadata": {},
   "outputs": [],
   "source": []
  }
 ],
 "metadata": {
  "kernelspec": {
   "display_name": "Python 3",
   "language": "python",
   "name": "python3"
  },
  "language_info": {
   "codemirror_mode": {
    "name": "ipython",
    "version": 3
   },
   "file_extension": ".py",
   "mimetype": "text/x-python",
   "name": "python",
   "nbconvert_exporter": "python",
   "pygments_lexer": "ipython3",
   "version": "3.8.8"
  }
 },
 "nbformat": 4,
 "nbformat_minor": 4
}
